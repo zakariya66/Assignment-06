{
  "nbformat": 4,
  "nbformat_minor": 0,
  "metadata": {
    "colab": {
      "provenance": []
    },
    "kernelspec": {
      "name": "python3",
      "display_name": "Python 3"
    },
    "language_info": {
      "name": "python"
    }
  },
  "cells": [
    {
      "cell_type": "markdown",
      "source": [
        "**Q1.  What is NumPy, and why is it widely used in Python?**\n",
        "\n",
        "  Ans. NumPy = Numerical Python (a Python library).\n",
        "  It is used for working with numbers, arrays, and math.\n",
        "  Why People Use NumPy?\n",
        "1. Fast – Much faster than normal Python lists.\n",
        "2. Easy – You can do math on whole arrays without loops.\n",
        "3. Powerful – Has many built-in functions for math, stats, and data.\n",
        "4. Important – Other libraries (Pandas, ML, AI) depend on it."
      ],
      "metadata": {
        "id": "ezAObBfHOH4f"
      }
    },
    {
      "cell_type": "markdown",
      "source": [
        "**Q2.  How does broadcasting work in NumPy?**\n",
        "\n",
        "  Ans.When two arrays don’t have the same shape, NumPy can still do operations by stretching the smaller array to match the bigger one.\n",
        "\n",
        "1. Compare shapes from the right side.\n",
        "2. If dimensions are the same works.\n",
        "3. If one dimension is 1 → it gets stretched to match the other.\n",
        "4. If neither\n",
        "5. matcheserror.\n"
      ],
      "metadata": {
        "id": "zlYyH9aQPUSO"
      }
    },
    {
      "cell_type": "markdown",
      "source": [
        "*** Q3. What is a Pandas DataFrame?***\n",
        "\n",
        "   Ans.A Pandas DataFrame is a two-dimensional labeled data structure in Python. It is used to store and manage data in rows and columns, similar to an Excel sheet or a SQL table. Each column in a DataFrame can hold different types of data such as integers, floats, or strings.\n",
        "\n",
        "DataFrame consists of three main parts:\n",
        " Rows, which represent individual records.\n",
        " Columns, which represent variables or fields.\n",
        " An index, which labels the rows.\n",
        "\n"
      ],
      "metadata": {
        "id": "e9yOB7RvPjtk"
      }
    },
    {
      "cell_type": "markdown",
      "source": [
        "**Q4.Explain the use of the groupby() method in Pandas?**\n",
        "\n",
        "  Ans. The groupby() method in Pandas is used to split data into groups based on one or more columns and then perform operations such as aggregation, transformation, or filtering on each group. It is especially useful when you want to analyze data by categories.\n",
        "\n",
        "The process can be thought of in three steps:\n",
        "\n",
        "1. Splitting: The data is divided into groups based on the specified column or columns.\n",
        "\n",
        "\n",
        "2. Applying: A function such as sum, mean, count, or a custom function is applied to each group.\n",
        "\n",
        "\n",
        "3. Combining: The results are combined back into a new DataFrame or Series."
      ],
      "metadata": {
        "id": "joBG6UGCQmAl"
      }
    },
    {
      "cell_type": "markdown",
      "source": [
        "**Q5. Why is Seaborn preferred for statistical visualizations?**\n",
        "\n",
        "  Ans.  visualizations because it is built specifically to make statistical plots easier, more attractive, and more informative compared to raw Matplotlib. It provides high-level functions that automatically handle many statistical details, making data visualization simpler and more efficient.\n",
        "\n",
        "Key reasons why Seaborn is preferred:\n",
        "\n",
        "1. Built-in statistical support:\n",
        "Seaborn can automatically calculate and visualize statistical relationships, such as regression lines, distributions, and categorical comparisons. For example, it can plot histograms with density curves or scatter plots with regression lines without manual coding.\n",
        "\n",
        "\n",
        "2. Beautiful default styles:\n",
        "Seaborn comes with attractive themes and color palettes that make plots look professional without extra styling.\n",
        "\n",
        "\n",
        "3. Integration with Pandas:\n",
        "Seaborn works seamlessly with Pandas DataFrames. You can pass column names directly instead of manually extracting arrays, which makes code shorter and more readable.\n",
        "\n",
        "\n",
        "4. Complex plots with simple code:\n",
        "Seaborn allows you to create complex visualizations such as box plots, violin plots, pair plots, and heatmaps with just a single line of code.\n",
        "\n",
        "\n",
        "5. Focus on statistical insights:\n",
        "Unlike Matplotlib, which is more of a general-purpose plotting library, Seaborn is designed to highlight statistical relationships and distributions, which makes it more suitable for data analysis tasks"
      ],
      "metadata": {
        "id": "c_HBqMsORJWl"
      }
    },
    {
      "cell_type": "markdown",
      "source": [
        "**Q6.  What are the differences between NumPy arrays and Python lists?**\n",
        "\n",
        "  Ans. Python List: Can store elements of different data types in the same list (e.g., integers, strings, floats).\n",
        "\n",
        "NumPy Array: Stores elements of the same data type, which makes operations faster.\n",
        "\n",
        "2. Performance\n",
        "\n",
        "Python List: Slower for numerical computations because it is a general-purpose container.\n",
        "\n",
        "NumPy Array: Much faster because it uses optimized C code under the hood and stores data in contiguous memory.\n",
        "\n",
        "\n",
        "3. Memory Usage\n",
        "\n",
        "Python List: Consumes more memory as it stores type information for each element.\n",
        "\n",
        "NumPy Array: Consumes less memory since all elements have the same type and are stored efficiently."
      ],
      "metadata": {
        "id": "riUvrJmURD_d"
      }
    },
    {
      "cell_type": "markdown",
      "source": [
        "**Q7.  What is a heatmap, and when should it be used?**\n",
        "\n",
        "   Ans.A heatmap is a type of data visualization that uses colors to represent the values of a matrix or 2D data. Each cell in the heatmap corresponds to a value, and the intensity or shade of the color shows how large or small that value is.\n",
        "\n",
        "\n",
        "---\n",
        "\n",
        "When to Use a Heatmap\n",
        "\n",
        "1. Showing correlations\n",
        "Heatmaps are widely used to display correlation matrices, where colors make it easy to see which variables are strongly or weakly related.\n",
        "\n",
        "\n",
        "2. Comparing values across two dimensions\n",
        "When you have data arranged in rows and columns (like a table), a heatmap quickly highlights patterns, trends, or outliers.\n",
        "\n",
        "\n",
        "3. Identifying high and low values\n",
        "By mapping values to colors, heatmaps make it easy to see which parts of the data are high, low, or unusual.\n",
        "\n",
        "\n",
        "4. Visualizing large datasets\n",
        "Heatmaps can summarize large amounts of numerical data in a compact visual form."
      ],
      "metadata": {
        "id": "8fxlSzSbRq3n"
      }
    },
    {
      "cell_type": "markdown",
      "source": [
        "**Q8.  What does the term “vectorized operation” mean in NumPy?**\n",
        "\n",
        "  Ans. A heatmap is a type of data visualization that uses colors to represent the values of a matrix or 2D data. Each cell in the heatmap corresponds to a value, and the intensity or shade of the color shows how large or small that value is.\n",
        "\n",
        "\n",
        "---\n",
        "\n",
        "When to Use a Heatmap\n",
        "\n",
        "1. Showing correlations\n",
        "Heatmaps are widely used to display correlation matrices, where colors make it easy to see which variables are strongly or weakly related.\n",
        "\n",
        "\n",
        "2. Comparing values across two dimensions\n",
        "When you have data arranged in rows and columns (like a table), a heatmap quickly highlights patterns, trends, or outliers.\n",
        "\n",
        "\n",
        "3. Identifying high and low values\n",
        "By mapping values to colors, heatmaps make it easy to see which parts of the data are high, low, or unusual.\n",
        "\n",
        "\n",
        "4. Visualizing large datasets\n",
        "Heatmaps can summarize large amounts of numerical data in a compact visual form."
      ],
      "metadata": {
        "id": "DhokWMQ9R1IE"
      }
    },
    {
      "cell_type": "markdown",
      "source": [],
      "metadata": {
        "id": "HlEajbYpQgGt"
      }
    },
    {
      "cell_type": "markdown",
      "source": [
        "**Q9.  How does Matplotlib differ from Plotly?**\n",
        "\n",
        "  Ans.Matplotlib vs Plotly\n",
        "\n",
        "1. Nature of Library\n",
        "\n",
        "Matplotlib\n",
        "\n",
        "A static plotting library (though it has some interactivity with mpl_interactive, ipympl, etc.).\n",
        "\n",
        "Focus: basic, traditional plots (line, bar, scatter, histograms).\n",
        "\n",
        "Used mostly for research, academic work, reports.Plotly\n",
        "\n",
        "A fully interactive plotting library.\n",
        "\n",
        "Focus: interactive, web-friendly visualizations.\n",
        "\n",
        "Works well in dashboards, data apps, and presentations.\n",
        "\n",
        "\n",
        "2. InteractivityMatplotlib → Plots are usually static images (PNG, PDF). Limited zoom/pan in Jupyter.\n",
        "\n",
        "Plotly → Plots are interactive by default (hover tooltips, zoom, drag, legends toggle).\n",
        "\n",
        "3. Complexity & Syntax Matplotlib → Requires more code for styling, but very customizable.\n",
        "\n",
        "Plotly → Cleaner syntax for complex visuals, less effort to add interactivity.\n",
        "\n",
        "4. Visualization Types\n",
        "\n",
        "Matplotlib → Strong in basic scientific plots, supports 3D, but not very flashy.\n",
        "\n",
        "Plotly → Great for advanced charts (heatmaps, 3D, geographic maps, animations).\n",
        "\n",
        "5. Use CasesMatplotlib: Best when you needStatic figures for papers/reportsFine control over plot elementsTraditional data science workflows\n",
        "Plotly: Best when you needInteractive dashboardsWeb applications (works with Dash)\n",
        "Modern, presentation-ready visuals"
      ],
      "metadata": {
        "id": "b0sxgJjoSKtM"
      }
    },
    {
      "cell_type": "markdown",
      "source": [
        "**Q10.  What is the significance of hierarchical indexing in Pandas?**\n",
        "\n",
        "   Ans.Hierarchical Indexing (MultiIndex) in Pandas\n",
        "\n",
        "Hierarchical indexing means using more than one level of index (row labels or column labels) in a DataFrame.\n",
        "It allows us to represent multi-dimensional data in a 2D table.\n",
        "\n",
        "\n",
        "---\n",
        "\n",
        "Easy Analogy\n",
        "\n",
        "Think of it like folders and subfolders on your computer:\n",
        "\n",
        "Main folder = State (e.g., UP)\n",
        "\n",
        "Subfolder = Year (e.g., 2020)\n",
        "\n",
        "File inside = Population (e.g., 22)\n",
        "\n",
        "\n",
        "So, to reach a value, you follow both levels.\n",
        "Why is it important?\n",
        "\n",
        "1. Better organization – You can arrange data in multiple levels.\n",
        "2. Complex selection – You can filter data using more than one key (e.g., State + Year).\n",
        "3. Common in groupby results – When you group data in Pandas, the result often comes as a MultiIndex.\n",
        "4. Reshaping is easier – With functions like stack() and unstack(), you can quickly reshape data."
      ],
      "metadata": {
        "id": "RBwGahSwSSFu"
      }
    },
    {
      "cell_type": "markdown",
      "source": [
        "**Q11. What is the role of Seaborn’s pairplot() function?**\n",
        "\n",
        " Ans.Seaborn’s pairplot() Function\n",
        "\n",
        "Definition\n",
        "\n",
        "pairplot() is a Seaborn function that creates a grid of plots to show relationships between all numeric columns in a dataset.\n",
        "\n",
        "It plots scatter plots for every pair of variables.\n",
        "\n",
        "It plots histograms (or KDE plots) for each variable on the diagonal.\n",
        "Role / Purpose\n",
        "1. Exploratory Data Analysis (EDA) → Helps you quickly see how variables relate to each other.\n",
        "2. Correlation check → Shows which features have linear or nonlinear relationships.\n",
        "3. Distribution insight → Diagonal plots show how each variable is distributed.\n",
        "4. Class separation → You can color points by a categorical column (hue) to see how groups differ.\n",
        "\n",
        "   "
      ],
      "metadata": {
        "id": "rQB3KlehSn0N"
      }
    },
    {
      "cell_type": "markdown",
      "source": [
        "**Q12.  What is the purpose of the describe() function in Pandas?**\n",
        "\n",
        "  Ans.describe() Function in Pandas\n",
        "\n",
        "Definition\n",
        "\n",
        "The describe() function in Pandas is used to generate summary statistics of a DataFrame (or Series).\n",
        "\n",
        "It quickly gives an overview of the central tendency, dispersion, and distribution of numeric (and sometimes categorical) data.Purpose\n",
        "\n",
        "1. Quick summary of data → Provides count, mean, min, max, and other statistics.\n",
        "2. Understand distribution → Helps check spread, variability, and skewness.\n",
        "3. Detect missing or unusual values → Count and range give hints about missing data or outliers.\n",
        "4. Supports both numeric & object data →\n",
        "\n",
        "For numeric columns → gives stats like mean, std, min, percentiles.\n",
        "\n",
        "For object/categorical columns (with include=\"object\") → gives count, unique, top, freq"
      ],
      "metadata": {
        "id": "-pQysTnDUL_e"
      }
    },
    {
      "cell_type": "markdown",
      "source": [
        "**Q13.  Why is handling missing data important in Pandas?**\n",
        "\n",
        "  Ans. Missing values can lead to incorrect results if not handled.\n",
        "\n",
        "For example, calculating mean, sum, or correlation with missing values may give misleading results.\n",
        "2. Model Accuracy (in Machine Learning)Many ML algorithms cannot handle NaN values directly.\n",
        "If missing data is not treated, the model may fail to train or give poor predictions.\n",
        "3. Preserving Information\n",
        "Deciding whether to drop or fill missing values helps keep as much useful data as possible.\n",
        "\n",
        "Example: Dropping too many rows may reduce dataset size; filling incorrectly may create bias.\n",
        " 4. Data Consistency\n",
        "\n",
        "Missing values can break joins, merges, or grouping operations in Pandas.\n",
        "\n",
        "Cleaning them ensures smooth analysis and transformations."
      ],
      "metadata": {
        "id": "ScFmXRXTUb2-"
      }
    },
    {
      "cell_type": "markdown",
      "source": [
        "**Q14. What are the benefits of using Plotly for data visualization?**\n",
        "\n",
        "  Ans. Plotly plots are interactive by default.You can zoom, pan, hover, and filter data directly on the chart.Makes exploring data much easier compared to static plots.\n",
        "2. Wide Range of Chart Types\n",
        "Supports basic charts (line, bar, scatter) and advanced charts (3D plots, heatmaps, geographical maps, polar charts, animations).\n",
        "Useful for both simple and complex datasets.\n",
        "3. Web-Friendly and Shareable\n",
        "\n",
        "Plots can be embedded in web apps, dashboards, and Jupyter notebooks.\n",
        "\n",
        "Works seamlessly with frameworks like Dash for building interactive data apps.\n",
        "4. Beautiful Default Styling\n",
        "\n",
        "Plotly charts look modern and polished out of the box.\n",
        "\n",
        "Less effort to make presentation-ready visuals compared to other libraries.\n",
        "\n",
        "5. Supports Multiple Languages\n",
        "\n",
        "Works in Python, R, JavaScript, and Julia.\n",
        "\n",
        "Useful for cross-platform or team projects.\n",
        "6. Easy Customization\n",
        "You can customize colors, labels, markers, lines, and layout with simple parameters.Interactive features (hover info, dropdowns, sliders) can be added easily.\n",
        "\n",
        "\n",
        "7. Handles Large Datasets\n",
        "\n",
        "Plotly can efficiently visualize large datasets with interactivity"
      ],
      "metadata": {
        "id": "OKQoFnRfUvjn"
      }
    },
    {
      "cell_type": "markdown",
      "source": [
        "**Q15. How does NumPy handle multidimensional arrays?**\n",
        "\n",
        "  Ans. 1. Definition\n",
        "\n",
        "In NumPy, a multidimensional array is called an ndarray.\n",
        "\n",
        "It can have 1, 2, 3… or more dimensions, unlike regular Python lists.\n",
        "\n",
        "2. Structure\n",
        "\n",
        "Elements are stored in a contiguous block of memory, so operations are very fast.\n",
        "\n",
        "Each array has a shape, which is a tuple showing the size along each dimension.\n",
        "\n",
        "Axis: Each dimension has an index (axis 0, axis 1, etc.)."
      ],
      "metadata": {
        "id": "2p0zQnxWVHAW"
      }
    },
    {
      "cell_type": "markdown",
      "source": [
        "**Q16.  What is the role of Bokeh in data visualization?**\n",
        "\n",
        "  Ans.Bokeh is a Python library used to make interactive and web-friendly plots.\n",
        "1. Lets you zoom, pan, and hover on plots.\n",
        "\n",
        "\n",
        "2. Can create web-ready charts for dashboards or websites.\n",
        "\n",
        "\n",
        "3. Works well with large datasets.\n",
        "\n",
        "\n",
        "4. Lets you customize colors, shapes, and layouts.\n",
        "\n",
        "\n",
        "5. Can show real-time or streaming data.\n"
      ],
      "metadata": {
        "id": "I0qxXg-GVRmd"
      }
    },
    {
      "cell_type": "markdown",
      "source": [
        "**Q17.  Explain the difference between apply() and map() in Pandas?**\n",
        "  Ans. map()Used mainly on Series (single column).\n",
        "Applies a function element-wise to each value in the Series.\n",
        "Can also accept a dictionary or Series to map values.\n",
        "\n",
        "2. apply()\n",
        "\n",
        "Can be used on both Series and DataFrames.\n",
        "\n",
        "Can apply a function to each element (Series) or row/column (DataFrame).\n",
        "\n",
        "More flexible than map().\n",
        "\n",
        "\n"
      ],
      "metadata": {
        "id": "nM3IPcGGVmXW"
      }
    },
    {
      "cell_type": "markdown",
      "source": [
        "**Q18.  What are some advanced features of NumPy?**\n",
        "\n",
        "   Ans.Advanced Features of NumPy – Simple Definition\n",
        "\n",
        "NumPy has many advanced features that make data computation fast and easy, such as:\n",
        "\n",
        "1. Broadcasting → Perform operations on arrays of different shapes automatically.\n",
        "\n",
        "\n",
        "2. Vectorized Operations → Apply operations to entire arrays without loops.\n",
        "\n",
        "\n",
        "3. Advanced Indexing → Select elements using conditions or lists of indices.\n",
        "\n",
        "\n",
        "4. Linear Algebra → Perform matrix operations like dot product, inverse, eigenvalues.\n",
        "\n",
        "\n",
        "5. Random Numbers → Generate numbers from different distributions easily.\n",
        "\n",
        "\n",
        "6. Fourier Transform → Analyze signals using FFT.\n",
        "\n",
        "\n",
        "7. Memory Efficient → Uses less memory and supports views instead of copies."
      ],
      "metadata": {
        "id": "GDtzZudvWRi9"
      }
    },
    {
      "cell_type": "markdown",
      "source": [
        "**Q19. How does Pandas simplify time series analysis?**\n",
        "\n",
        "  Ans. Pandas makes working with time-based data easy and efficient. It provides tools to:\n",
        "\n",
        "1. Handle dates and times – Convert strings or numbers into datetime objects.\n",
        "\n",
        "\n",
        "2. Index by date – Access or filter data by day, month, or year.\n",
        "\n",
        "\n",
        "3. Resample data – Summarize data for different time periods like daily, weekly, or monthly.\n",
        "\n",
        "\n",
        "4. Shift or lag data – Compare current values with previous periods.\n",
        "\n",
        "\n",
        "5. Rolling and moving averages – Smooth data or compute trends over a window of time.\n",
        "\n",
        "\n",
        "6. Handle missing dates or values – Fill gaps in time series automatically.\n",
        "7."
      ],
      "metadata": {
        "id": "iI6kN_OzWjV9"
      }
    },
    {
      "cell_type": "markdown",
      "source": [
        "**Q20.  What is the role of a pivot table in Pandas?**\n",
        "\n",
        "  Ans.A pivot table in Pandas is used to summarize and reshape data.\n",
        "It allows you to aggregate data based on one or more categorical columns, similar to Excel pivot tables.\n",
        "1. Data Summarization\n",
        "\n",
        "Quickly compute sum, mean, count, or other statistics grouped by categories.\n",
        "2. Organizing Data\n",
        "\n",
        "Rearranges long-format data into a more readable table with rows and columns.\n",
        "3. Comparison Between Categories\n",
        "\n",
        "Makes it easy to compare values across different groups.\n",
        "\n",
        "4. Flexibility with Aggregation\n",
        "\n",
        "Can apply multiple aggregation functions (sum, mean, max, min) in a single pivot table."
      ],
      "metadata": {
        "id": "btsz3rPDW5HT"
      }
    },
    {
      "cell_type": "markdown",
      "source": [
        "**Q21.  Why is NumPy’s array slicing faster than Python’s list slicing?**\n",
        "\n",
        "  Ans. 1. Contiguous Memory Storage\n",
        "\n",
        "NumPy arrays are stored in continuous blocks of memory, whereas Python lists store pointers to separate objects.\n",
        "\n",
        "Accessing a chunk of memory in NumPy is much faster than accessing scattered objects in a listl.\n",
        "2. Vectorized Operations\n",
        "\n",
        "NumPy slicing works with views, not copies (by default).\n",
        "\n",
        "When you slice a NumPy array, it doesn’t create a new array, it just points to the original data.\n",
        "\n",
        "Python lists, on the other hand, create a new list when slicing, which takes more time and memory.\n",
        "3. Homogeneous Data Type\n",
        "\n",
        "NumPy arrays have a single data type (all elements are integers, floats, etc.).\n",
        "\n",
        "Python lists can have mixed data types, so extra checks are needed when slicing, slowing things down."
      ],
      "metadata": {
        "id": "Y42zkEaLXT6M"
      }
    },
    {
      "cell_type": "markdown",
      "source": [
        "**Q22.  What are some common use cases for Seaborn?**\n",
        "\n",
        "  Ans.Common Use Cases for Seaborn\n",
        "\n",
        "Seaborn is a Python data visualization library built on top of Matplotlib. It’s especially useful for statistical and exploratory data analysis (EDA).\n",
        "\n",
        "1. Visualizing DistributionsUnderstand how data is distributed using Histogram → sns.histplot()KDE Plot → sns.kdeplot()\n",
        "Box Plot / Violin Plot → sns.boxplot(), sns.violinplot()\n",
        "Use case: Check income distribution, exam scores, or sensor readings.\n",
        "\n",
        "2. Exploring Relationships Between Variables\n",
        "\n",
        "See how two or more variables relate using:\n",
        "\n",
        "Scatter Plot → sns.scatterplot()\n",
        "\n",
        "Pair Plot → sns.pairplot()\n",
        "\n",
        "Line Plot → sns.lineplot()\n",
        "Use case: Analyze correlation between height and weight, sales and advertising, etc.\n",
        "\n",
        "3. Visualizing Categorical Data\n",
        "\n",
        "Compare categories using:\n",
        "\n",
        "Bar Plot → sns.barplot()\n",
        "\n",
        "Count Plot → sns.countplot()\n",
        "\n",
        "Box / Violin Plot → Compare numeric distributions across categories\n",
        "\n",
        "\n",
        "\n",
        "Use case: Compare sales across regions or gender differences in test scores.\n",
        "4. Correlation and Heatmaps\n",
        "\n",
        "See patterns and correlations with:\n",
        "\n",
        "Correlation Heatmap → sns.heatmap()\n",
        "\n",
        "Use case: Detect which features are strongly correlated in a dataset for machine learning.\n",
        "5. Statistical Analysis Visualization\n",
        "\n",
        "Seaborn can display confidence intervals, regression lines, and grouping:\n",
        "\n",
        "Regression Plot → sns.regplot()\n",
        "\n",
        "FacetGrid → Create plots for subsets of data"
      ],
      "metadata": {
        "id": "QEGzpzu3XeqE"
      }
    },
    {
      "cell_type": "markdown",
      "source": [
        "**1. How do you create a 2D NumPy array and calculate the sum of each row?**"
      ],
      "metadata": {
        "id": "pC4lLodzY-Rs"
      }
    },
    {
      "cell_type": "code",
      "source": [
        "import numpy as np\n",
        "\n",
        "# Create a 2D NumPy array\n",
        "arr = np.array([[1, 2, 3],\n",
        "                [4, 5, 6],\n",
        "                [7, 8, 9]])\n",
        "\n",
        "print(\"2D Array:\\n\", arr)\n",
        "\n",
        "# Calculate the sum of each row\n",
        "row_sum = np.sum(arr, axis=1)\n",
        "\n",
        "print(\"Sum of each row:\", row_sum)"
      ],
      "metadata": {
        "colab": {
          "base_uri": "https://localhost:8080/"
        },
        "id": "Gb-yHYDwF3vf",
        "outputId": "d1fba210-6dc2-476d-ad60-686ba4b4b51f"
      },
      "execution_count": 1,
      "outputs": [
        {
          "output_type": "stream",
          "name": "stdout",
          "text": [
            "2D Array:\n",
            " [[1 2 3]\n",
            " [4 5 6]\n",
            " [7 8 9]]\n",
            "Sum of each row: [ 6 15 24]\n"
          ]
        }
      ]
    },
    {
      "cell_type": "markdown",
      "source": [
        "** 2. Write a Pandas script to find the mean of a specific column in a DataFrame?**"
      ],
      "metadata": {
        "id": "isEJyKltF-Kn"
      }
    },
    {
      "cell_type": "code",
      "source": [
        "import pandas as pd\n",
        "\n",
        "# Sample DataFrame\n",
        "data = {\n",
        "    'Name': ['Alice', 'Bob', 'Charlie', 'David'],\n",
        "    'Age': [25, 30, 35, 40],\n",
        "    'Salary': [50000, 60000, 75000, 80000]\n",
        "}\n",
        "\n",
        "df = pd.DataFrame(data)\n",
        "\n",
        "# Find mean of a specific column (e.g., \"Salary\")\n",
        "mean_salary = df['Salary'].mean()\n",
        "\n",
        "print(\"Mean of Salary column:\", mean_salary)"
      ],
      "metadata": {
        "colab": {
          "base_uri": "https://localhost:8080/"
        },
        "id": "ovz6p3MqGJzG",
        "outputId": "d271048f-e25f-4ca6-fb5f-781ac1da46b2"
      },
      "execution_count": 2,
      "outputs": [
        {
          "output_type": "stream",
          "name": "stdout",
          "text": [
            "Mean of Salary column: 66250.0\n"
          ]
        }
      ]
    },
    {
      "cell_type": "markdown",
      "source": [
        "** 3. Create a scatter plot using Matplotlib?**"
      ],
      "metadata": {
        "id": "vco2nxyZGPKv"
      }
    },
    {
      "cell_type": "code",
      "source": [
        "import matplotlib.pyplot as plt\n",
        "\n",
        "# Sample data\n",
        "x = [5, 7, 8, 7, 6, 9, 5, 6, 7, 8]\n",
        "y = [99, 86, 87, 88, 100, 86, 103, 87, 94, 78]\n",
        "\n",
        "# Create scatter plot\n",
        "plt.scatter(x, y, color='blue', marker='o')\n",
        "\n",
        "# Add labels and title\n",
        "plt.xlabel(\"X-axis\")\n",
        "plt.ylabel(\"Y-axis\")\n",
        "plt.title(\"Scatter Plot Example\")\n",
        "\n",
        "# Show plot\n",
        "plt.show()"
      ],
      "metadata": {
        "colab": {
          "base_uri": "https://localhost:8080/",
          "height": 472
        },
        "id": "BCANnCbwGZjm",
        "outputId": "d94b5c3c-efdd-4914-9530-8f8b3bd81d1d"
      },
      "execution_count": 3,
      "outputs": [
        {
          "output_type": "display_data",
          "data": {
            "text/plain": [
              "<Figure size 640x480 with 1 Axes>"
            ],
            "image/png": "[encoded data removed]"
          },
          "metadata": {}
        }
      ]
    },
    {
      "cell_type": "markdown",
      "source": [
        " 4.How do you calculate the correlation matrix using Seaborn and visualize it with a heatmap?**"
      ],
      "metadata": {
        "id": "w9x_EodRGc5Q"
      }
    },
    {
      "cell_type": "code",
      "source": [
        "import pandas as pd\n",
        "import seaborn as sns\n",
        "import matplotlib.pyplot as plt\n",
        "\n",
        "# Sample DataFrame\n",
        "data = {\n",
        "    'Math': [90, 80, 70, 60, 85],\n",
        "    'Science': [88, 76, 95, 70, 82],\n",
        "    'English': [65, 78, 80, 72, 90],\n",
        "    'History': [70, 68, 75, 80, 85]\n",
        "}\n",
        "\n",
        "df = pd.DataFrame(data)\n",
        "\n",
        "# Calculate correlation matrix\n",
        "corr = df.corr()\n",
        "\n",
        "# Plot heatmap\n",
        "plt.figure(figsize=(6, 4))\n",
        "sns.heatmap(corr, annot=True, cmap='coolwarm', fmt=\".2f\")\n",
        "\n",
        "plt.title(\"Correlation Matrix Heatmap\")\n",
        "plt.show()"
      ],
      "metadata": {
        "colab": {
          "base_uri": "https://localhost:8080/",
          "height": 391
        },
        "id": "DTpfXIuVG3hI",
        "outputId": "da788e9c-bc2e-459f-f1e3-dddc5b486b8d"
      },
      "execution_count": 4,
      "outputs": [
        {
          "output_type": "display_data",
          "data": {
            "text/plain": [
              "<Figure size 600x400 with 2 Axes>"
            ],
            "image/png": "[encoded data removed]"
          },
          "metadata": {}
        }
      ]
    },
    {
      "cell_type": "markdown",
      "source": [
        "**5.  Generate a bar plot using Plotly?**"
      ],
      "metadata": {
        "id": "6suvx3AkG_dH"
      }
    },
    {
      "cell_type": "code",
      "source": [
        "import plotly.express as px\n",
        "import pandas as pd\n",
        "\n",
        "# Sample data\n",
        "data = {\n",
        "    'Subjects': ['Math', 'Science', 'English', 'History'],\n",
        "    'Scores': [90, 85, 78, 88]\n",
        "}\n",
        "\n",
        "df = pd.DataFrame(data)\n",
        "\n",
        "# Create bar plot\n",
        "fig = px.bar(df, x='Subjects', y='Scores',\n",
        "             title=\"Student Scores by Subject\",\n",
        "             labels={'Scores': 'Marks'},\n",
        "             color='Scores',  # adds color intensity\n",
        "             text='Scores')   # show values on bars\n",
        "\n",
        "# Show plot\n",
        "fig.show()"
      ],
      "metadata": {
        "colab": {
          "base_uri": "https://localhost:8080/",
          "height": 542
        },
        "id": "oCSSUMd9HF8H",
        "outputId": "65b4e19d-dd6c-4070-c3ad-4f07be42559c"
      },
      "execution_count": 5,
      "outputs": [
        {
          "output_type": "display_data",
          "data": {
            "text/html": [
              "<html>\n",
              "<head><meta charset=\"utf-8\" /></head>\n",
              "<body>\n",
              "    <div>            <script src=\"https://cdnjs.cloudflare.com/ajax/libs/mathjax/2.7.5/MathJax.js?config=TeX-AMS-MML_SVG\"></script><script type=\"text/javascript\">if (window.MathJax && window.MathJax.Hub && window.MathJax.Hub.Config) {window.MathJax.Hub.Config({SVG: {font: \"STIX-Web\"}});}</script>                <script type=\"text/javascript\">window.PlotlyConfig = {MathJaxConfig: 'local'};</script>\n",
              "        <script charset=\"utf-8\" src=\"https://cdn.plot.ly/plotly-2.35.2.min.js\"></script>                <div id=\"07ff2330-b771-48e1-b031-957a4f29c636\" class=\"plotly-graph-div\" style=\"height:525px; width:100%;\"></div>            <script type=\"text/javascript\">                                    window.PLOTLYENV=window.PLOTLYENV || {};                                    if (document.getElementById(\"07ff2330-b771-48e1-b031-957a4f29c636\")) {                    Plotly.newPlot(                        \"07ff2330-b771-48e1-b031-957a4f29c636\",                        [{\"alignmentgroup\":\"True\",\"hovertemplate\":\"Subjects=%{x}\\u003cbr\\u003eMarks=%{marker.color}\\u003cextra\\u003e\\u003c\\u002fextra\\u003e\",\"legendgroup\":\"\",\"marker\":{\"color\":[90,85,78,88],\"coloraxis\":\"coloraxis\",\"pattern\":{\"shape\":\"\"}},\"name\":\"\",\"offsetgroup\":\"\",\"orientation\":\"v\",\"showlegend\":false,\"text\":[90.0,85.0,78.0,88.0],\"textposition\":\"auto\",\"x\":[\"Math\",\"Science\",\"English\",\"History\"],\"xaxis\":\"x\",\"y\":[90,85,78,88],\"yaxis\":\"y\",\"type\":\"bar\"}],                        {\"template\":{\"data\":{\"histogram2dcontour\":[{\"type\":\"histogram2dcontour\",\"colorbar\":{\"outlinewidth\":0,\"ticks\":\"\"},\"colorscale\":[[0.0,\"#0d0887\"],[0.1111111111111111,\"#46039f\"],[0.2222222222222222,\"#7201a8\"],[0.3333333333333333,\"#9c179e\"],[0.4444444444444444,\"#bd3786\"],[0.5555555555555556,\"#d8576b\"],[0.6666666666666666,\"#ed7953\"],[0.7777777777777778,\"#fb9f3a\"],[0.8888888888888888,\"#fdca26\"],[1.0,\"#f0f921\"]]}],\"choropleth\":[{\"type\":\"choropleth\",\"colorbar\":{\"outlinewidth\":0,\"ticks\":\"\"}}],\"histogram2d\":[{\"type\":\"histogram2d\",\"colorbar\":{\"outlinewidth\":0,\"ticks\":\"\"},\"colorscale\":[[0.0,\"#0d0887\"],[0.1111111111111111,\"#46039f\"],[0.2222222222222222,\"#7201a8\"],[0.3333333333333333,\"#9c179e\"],[0.4444444444444444,\"#bd3786\"],[0.5555555555555556,\"#d8576b\"],[0.6666666666666666,\"#ed7953\"],[0.7777777777777778,\"#fb9f3a\"],[0.8888888888888888,\"#fdca26\"],[1.0,\"#f0f921\"]]}],\"heatmap\":[{\"type\":\"heatmap\",\"colorbar\":{\"outlinewidth\":0,\"ticks\":\"\"},\"colorscale\":[[0.0,\"#0d0887\"],[0.1111111111111111,\"#46039f\"],[0.2222222222222222,\"#7201a8\"],[0.3333333333333333,\"#9c179e\"],[0.4444444444444444,\"#bd3786\"],[0.5555555555555556,\"#d8576b\"],[0.6666666666666666,\"#ed7953\"],[0.7777777777777778,\"#fb9f3a\"],[0.8888888888888888,\"#fdca26\"],[1.0,\"#f0f921\"]]}],\"heatmapgl\":[{\"type\":\"heatmapgl\",\"colorbar\":{\"outlinewidth\":0,\"ticks\":\"\"},\"colorscale\":[[0.0,\"#0d0887\"],[0.1111111111111111,\"#46039f\"],[0.2222222222222222,\"#7201a8\"],[0.3333333333333333,\"#9c179e\"],[0.4444444444444444,\"#bd3786\"],[0.5555555555555556,\"#d8576b\"],[0.6666666666666666,\"#ed7953\"],[0.7777777777777778,\"#fb9f3a\"],[0.8888888888888888,\"#fdca26\"],[1.0,\"#f0f921\"]]}],\"contourcarpet\":[{\"type\":\"contourcarpet\",\"colorbar\":{\"outlinewidth\":0,\"ticks\":\"\"}}],\"contour\":[{\"type\":\"contour\",\"colorbar\":{\"outlinewidth\":0,\"ticks\":\"\"},\"colorscale\":[[0.0,\"#0d0887\"],[0.1111111111111111,\"#46039f\"],[0.2222222222222222,\"#7201a8\"],[0.3333333333333333,\"#9c179e\"],[0.4444444444444444,\"#bd3786\"],[0.5555555555555556,\"#d8576b\"],[0.6666666666666666,\"#ed7953\"],[0.7777777777777778,\"#fb9f3a\"],[0.8888888888888888,\"#fdca26\"],[1.0,\"#f0f921\"]]}],\"surface\":[{\"type\":\"surface\",\"colorbar\":{\"outlinewidth\":0,\"ticks\":\"\"},\"colorscale\":[[0.0,\"#0d0887\"],[0.1111111111111111,\"#46039f\"],[0.2222222222222222,\"#7201a8\"],[0.3333333333333333,\"#9c179e\"],[0.4444444444444444,\"#bd3786\"],[0.5555555555555556,\"#d8576b\"],[0.6666666666666666,\"#ed7953\"],[0.7777777777777778,\"#fb9f3a\"],[0.8888888888888888,\"#fdca26\"],[1.0,\"#f0f921\"]]}],\"mesh3d\":[{\"type\":\"mesh3d\",\"colorbar\":{\"outlinewidth\":0,\"ticks\":\"\"}}],\"scatter\":[{\"fillpattern\":{\"fillmode\":\"overlay\",\"size\":10,\"solidity\":0.2},\"type\":\"scatter\"}],\"parcoords\":[{\"type\":\"parcoords\",\"line\":{\"colorbar\":{\"outlinewidth\":0,\"ticks\":\"\"}}}],\"scatterpolargl\":[{\"type\":\"scatterpolargl\",\"marker\":{\"colorbar\":{\"outlinewidth\":0,\"ticks\":\"\"}}}],\"bar\":[{\"error_x\":{\"color\":\"#2a3f5f\"},\"error_y\":{\"color\":\"#2a3f5f\"},\"marker\":{\"line\":{\"color\":\"#E5ECF6\",\"width\":0.5},\"pattern\":{\"fillmode\":\"overlay\",\"size\":10,\"solidity\":0.2}},\"type\":\"bar\"}],\"scattergeo\":[{\"type\":\"scattergeo\",\"marker\":{\"colorbar\":{\"outlinewidth\":0,\"ticks\":\"\"}}}],\"scatterpolar\":[{\"type\":\"scatterpolar\",\"marker\":{\"colorbar\":{\"outlinewidth\":0,\"ticks\":\"\"}}}],\"histogram\":[{\"marker\":{\"pattern\":{\"fillmode\":\"overlay\",\"size\":10,\"solidity\":0.2}},\"type\":\"histogram\"}],\"scattergl\":[{\"type\":\"scattergl\",\"marker\":{\"colorbar\":{\"outlinewidth\":0,\"ticks\":\"\"}}}],\"scatter3d\":[{\"type\":\"scatter3d\",\"line\":{\"colorbar\":{\"outlinewidth\":0,\"ticks\":\"\"}},\"marker\":{\"colorbar\":{\"outlinewidth\":0,\"ticks\":\"\"}}}],\"scattermapbox\":[{\"type\":\"scattermapbox\",\"marker\":{\"colorbar\":{\"outlinewidth\":0,\"ticks\":\"\"}}}],\"scatterternary\":[{\"type\":\"scatterternary\",\"marker\":{\"colorbar\":{\"outlinewidth\":0,\"ticks\":\"\"}}}],\"scattercarpet\":[{\"type\":\"scattercarpet\",\"marker\":{\"colorbar\":{\"outlinewidth\":0,\"ticks\":\"\"}}}],\"carpet\":[{\"aaxis\":{\"endlinecolor\":\"#2a3f5f\",\"gridcolor\":\"white\",\"linecolor\":\"white\",\"minorgridcolor\":\"white\",\"startlinecolor\":\"#2a3f5f\"},\"baxis\":{\"endlinecolor\":\"#2a3f5f\",\"gridcolor\":\"white\",\"linecolor\":\"white\",\"minorgridcolor\":\"white\",\"startlinecolor\":\"#2a3f5f\"},\"type\":\"carpet\"}],\"table\":[{\"cells\":{\"fill\":{\"color\":\"#EBF0F8\"},\"line\":{\"color\":\"white\"}},\"header\":{\"fill\":{\"color\":\"#C8D4E3\"},\"line\":{\"color\":\"white\"}},\"type\":\"table\"}],\"barpolar\":[{\"marker\":{\"line\":{\"color\":\"#E5ECF6\",\"width\":0.5},\"pattern\":{\"fillmode\":\"overlay\",\"size\":10,\"solidity\":0.2}},\"type\":\"barpolar\"}],\"pie\":[{\"automargin\":true,\"type\":\"pie\"}]},\"layout\":{\"autotypenumbers\":\"strict\",\"colorway\":[\"#636efa\",\"#EF553B\",\"#00cc96\",\"#ab63fa\",\"#FFA15A\",\"#19d3f3\",\"#FF6692\",\"#B6E880\",\"#FF97FF\",\"#FECB52\"],\"font\":{\"color\":\"#2a3f5f\"},\"hovermode\":\"closest\",\"hoverlabel\":{\"align\":\"left\"},\"paper_bgcolor\":\"white\",\"plot_bgcolor\":\"#E5ECF6\",\"polar\":{\"bgcolor\":\"#E5ECF6\",\"angularaxis\":{\"gridcolor\":\"white\",\"linecolor\":\"white\",\"ticks\":\"\"},\"radialaxis\":{\"gridcolor\":\"white\",\"linecolor\":\"white\",\"ticks\":\"\"}},\"ternary\":{\"bgcolor\":\"#E5ECF6\",\"aaxis\":{\"gridcolor\":\"white\",\"linecolor\":\"white\",\"ticks\":\"\"},\"baxis\":{\"gridcolor\":\"white\",\"linecolor\":\"white\",\"ticks\":\"\"},\"caxis\":{\"gridcolor\":\"white\",\"linecolor\":\"white\",\"ticks\":\"\"}},\"coloraxis\":{\"colorbar\":{\"outlinewidth\":0,\"ticks\":\"\"}},\"colorscale\":{\"sequential\":[[0.0,\"#0d0887\"],[0.1111111111111111,\"#46039f\"],[0.2222222222222222,\"#7201a8\"],[0.3333333333333333,\"#9c179e\"],[0.4444444444444444,\"#bd3786\"],[0.5555555555555556,\"#d8576b\"],[0.6666666666666666,\"#ed7953\"],[0.7777777777777778,\"#fb9f3a\"],[0.8888888888888888,\"#fdca26\"],[1.0,\"#f0f921\"]],\"sequentialminus\":[[0.0,\"#0d0887\"],[0.1111111111111111,\"#46039f\"],[0.2222222222222222,\"#7201a8\"],[0.3333333333333333,\"#9c179e\"],[0.4444444444444444,\"#bd3786\"],[0.5555555555555556,\"#d8576b\"],[0.6666666666666666,\"#ed7953\"],[0.7777777777777778,\"#fb9f3a\"],[0.8888888888888888,\"#fdca26\"],[1.0,\"#f0f921\"]],\"diverging\":[[0,\"#8e0152\"],[0.1,\"#c51b7d\"],[0.2,\"#de77ae\"],[0.3,\"#f1b6da\"],[0.4,\"#fde0ef\"],[0.5,\"#f7f7f7\"],[0.6,\"#e6f5d0\"],[0.7,\"#b8e186\"],[0.8,\"#7fbc41\"],[0.9,\"#4d9221\"],[1,\"#276419\"]]},\"xaxis\":{\"gridcolor\":\"white\",\"linecolor\":\"white\",\"ticks\":\"\",\"title\":{\"standoff\":15},\"zerolinecolor\":\"white\",\"automargin\":true,\"zerolinewidth\":2},\"yaxis\":{\"gridcolor\":\"white\",\"linecolor\":\"white\",\"ticks\":\"\",\"title\":{\"standoff\":15},\"zerolinecolor\":\"white\",\"automargin\":true,\"zerolinewidth\":2},\"scene\":{\"xaxis\":{\"backgroundcolor\":\"#E5ECF6\",\"gridcolor\":\"white\",\"linecolor\":\"white\",\"showbackground\":true,\"ticks\":\"\",\"zerolinecolor\":\"white\",\"gridwidth\":2},\"yaxis\":{\"backgroundcolor\":\"#E5ECF6\",\"gridcolor\":\"white\",\"linecolor\":\"white\",\"showbackground\":true,\"ticks\":\"\",\"zerolinecolor\":\"white\",\"gridwidth\":2},\"zaxis\":{\"backgroundcolor\":\"#E5ECF6\",\"gridcolor\":\"white\",\"linecolor\":\"white\",\"showbackground\":true,\"ticks\":\"\",\"zerolinecolor\":\"white\",\"gridwidth\":2}},\"shapedefaults\":{\"line\":{\"color\":\"#2a3f5f\"}},\"annotationdefaults\":{\"arrowcolor\":\"#2a3f5f\",\"arrowhead\":0,\"arrowwidth\":1},\"geo\":{\"bgcolor\":\"white\",\"landcolor\":\"#E5ECF6\",\"subunitcolor\":\"white\",\"showland\":true,\"showlakes\":true,\"lakecolor\":\"white\"},\"title\":{\"x\":0.05},\"mapbox\":{\"style\":\"light\"}}},\"xaxis\":{\"anchor\":\"y\",\"domain\":[0.0,1.0],\"title\":{\"text\":\"Subjects\"}},\"yaxis\":{\"anchor\":\"x\",\"domain\":[0.0,1.0],\"title\":{\"text\":\"Marks\"}},\"coloraxis\":{\"colorbar\":{\"title\":{\"text\":\"Marks\"}},\"colorscale\":[[0.0,\"#0d0887\"],[0.1111111111111111,\"#46039f\"],[0.2222222222222222,\"#7201a8\"],[0.3333333333333333,\"#9c179e\"],[0.4444444444444444,\"#bd3786\"],[0.5555555555555556,\"#d8576b\"],[0.6666666666666666,\"#ed7953\"],[0.7777777777777778,\"#fb9f3a\"],[0.8888888888888888,\"#fdca26\"],[1.0,\"#f0f921\"]]},\"legend\":{\"tracegroupgap\":0},\"title\":{\"text\":\"Student Scores by Subject\"},\"barmode\":\"relative\"},                        {\"responsive\": true}                    ).then(function(){\n",
              "                            \n",
              "var gd = document.getElementById('07ff2330-b771-48e1-b031-957a4f29c636');\n",
              "var x = new MutationObserver(function (mutations, observer) {{\n",
              "        var display = window.getComputedStyle(gd).display;\n",
              "        if (!display || display === 'none') {{\n",
              "            console.log([gd, 'removed!']);\n",
              "            Plotly.purge(gd);\n",
              "            observer.disconnect();\n",
              "        }}\n",
              "}});\n",
              "\n",
              "// Listen for the removal of the full notebook cells\n",
              "var notebookContainer = gd.closest('#notebook-container');\n",
              "if (notebookContainer) {{\n",
              "    x.observe(notebookContainer, {childList: true});\n",
              "}}\n",
              "\n",
              "// Listen for the clearing of the current output cell\n",
              "var outputEl = gd.closest('.output');\n",
              "if (outputEl) {{\n",
              "    x.observe(outputEl, {childList: true});\n",
              "}}\n",
              "\n",
              "                        })                };                            </script>        </div>\n",
              "</body>\n",
              "</html>"
            ]
          },
          "metadata": {}
        }
      ]
    },
    {
      "cell_type": "markdown",
      "source": [
        "** 6. Create a DataFrame and add a new column based on an existing column?**"
      ],
      "metadata": {
        "id": "yBS-dyruHGbP"
      }
    },
    {
      "cell_type": "code",
      "source": [
        "import pandas as pd\n",
        "\n",
        "# Create DataFrame\n",
        "data = {\n",
        "    'Name': ['Alice', 'Bob', 'Charlie', 'David'],\n",
        "    'Marks': [85, 62, 90, 70]\n",
        "}\n",
        "\n",
        "df = pd.DataFrame(data)\n",
        "\n",
        "# Add new column \"Result\" based on Marks\n",
        "df['Result'] = df['Marks'].apply(lambda x: 'Pass' if x >= 70 else 'Fail')\n",
        "\n",
        "print(df)"
      ],
      "metadata": {
        "colab": {
          "base_uri": "https://localhost:8080/"
        },
        "id": "9FH_3FqjHTNw",
        "outputId": "21fc2daa-ddb5-46c5-e29f-dfb827ba031b"
      },
      "execution_count": 6,
      "outputs": [
        {
          "output_type": "stream",
          "name": "stdout",
          "text": [
            "      Name  Marks Result\n",
            "0    Alice     85   Pass\n",
            "1      Bob     62   Fail\n",
            "2  Charlie     90   Pass\n",
            "3    David     70   Pass\n"
          ]
        }
      ]
    },
    {
      "cell_type": "markdown",
      "source": [
        "**7.  Write a program to perform element-wise multiplication of two NumPy arrays?**"
      ],
      "metadata": {
        "id": "x_UcYRRZHgP3"
      }
    },
    {
      "cell_type": "code",
      "source": [
        "import numpy as np\n",
        "\n",
        "# Create two NumPy arrays\n",
        "a = np.array([1, 2, 3, 4])\n",
        "b = np.array([5, 6, 7, 8])\n",
        "\n",
        "# Element-wise multiplication\n",
        "result = a * b\n",
        "\n",
        "print(\"Array A:\", a)\n",
        "print(\"Array B:\", b)\n",
        "print(\"Element-wise Multiplication:\", result)"
      ],
      "metadata": {
        "colab": {
          "base_uri": "https://localhost:8080/"
        },
        "id": "DfgafOSqHk4t",
        "outputId": "b9717dd7-e1d9-4888-d761-fadbf1c4f489"
      },
      "execution_count": 7,
      "outputs": [
        {
          "output_type": "stream",
          "name": "stdout",
          "text": [
            "Array A: [1 2 3 4]\n",
            "Array B: [5 6 7 8]\n",
            "Element-wise Multiplication: [ 5 12 21 32]\n"
          ]
        }
      ]
    },
    {
      "cell_type": "markdown",
      "source": [
        " 8.** Create a line plot with multiple lines using Matplotlib?**"
      ],
      "metadata": {
        "id": "Z_HgwxQPHoGn"
      }
    },
    {
      "cell_type": "code",
      "source": [
        "import matplotlib.pyplot as plt\n",
        "\n",
        "# Sample data\n",
        "x = [1, 2, 3, 4, 5]\n",
        "\n",
        "y1 = [2, 4, 6, 8, 10]   # Line 1\n",
        "y2 = [1, 3, 5, 7, 9]    # Line 2\n",
        "y3 = [2, 3, 4, 5, 6]    # Line 3\n",
        "\n",
        "# Plot multiple lines\n",
        "plt.plot(x, y1, label='Line 1', marker='o')\n",
        "plt.plot(x, y2, label='Line 2', marker='s')\n",
        "plt.plot(x, y3, label='Line 3', marker='^')\n",
        "\n",
        "# Add labels and title\n",
        "plt.xlabel(\"X-axis\")\n",
        "plt.ylabel(\"Y-axis\")\n",
        "plt.title(\"Multiple Line Plot Example\")\n",
        "\n",
        "# Add legend\n",
        "plt.legend()\n",
        "\n",
        "# Show plot\n",
        "plt.show()"
      ],
      "metadata": {
        "colab": {
          "base_uri": "https://localhost:8080/",
          "height": 472
        },
        "id": "y263n1RtHwBm",
        "outputId": "d47bb2be-88bd-46e3-ddf8-af4d06a1e24b"
      },
      "execution_count": 8,
      "outputs": [
        {
          "output_type": "display_data",
          "data": {
            "text/plain": [
              "<Figure size 640x480 with 1 Axes>"
            ],
            "image/png": "[encoded data removed]"
          },
          "metadata": {}
        }
      ]
    },
    {
      "cell_type": "markdown",
      "source": [
        "**9.  Generate a Pandas DataFrame and filter rows where a column value is greater than a threshold?**"
      ],
      "metadata": {
        "id": "8iRWuTmuH2Yj"
      }
    },
    {
      "cell_type": "code",
      "source": [
        "import pandas as pd\n",
        "\n",
        "# Create DataFrame\n",
        "data = {\n",
        "    'Name': ['Alice', 'Bob', 'Charlie', 'David', 'Eva'],\n",
        "    'Age': [24, 30, 18, 35, 28]\n",
        "}\n",
        "\n",
        "df = pd.DataFrame(data)\n",
        "\n",
        "# Set threshold\n",
        "threshold = 25\n",
        "\n",
        "# Filter rows where Age > threshold\n",
        "filtered_df = df[df['Age'] > threshold]\n",
        "\n",
        "print(\"Original DataFrame:\")\n",
        "print(df)\n",
        "\n",
        "print(\"\\nFiltered DataFrame (Age > 25):\")\n",
        "print(filtered_df)"
      ],
      "metadata": {
        "colab": {
          "base_uri": "https://localhost:8080/"
        },
        "id": "B9567nMJH-Ne",
        "outputId": "7ac5ae52-78b5-4539-b91a-a0210178e0a0"
      },
      "execution_count": 9,
      "outputs": [
        {
          "output_type": "stream",
          "name": "stdout",
          "text": [
            "Original DataFrame:\n",
            "      Name  Age\n",
            "0    Alice   24\n",
            "1      Bob   30\n",
            "2  Charlie   18\n",
            "3    David   35\n",
            "4      Eva   28\n",
            "\n",
            "Filtered DataFrame (Age > 25):\n",
            "    Name  Age\n",
            "1    Bob   30\n",
            "3  David   35\n",
            "4    Eva   28\n"
          ]
        }
      ]
    },
    {
      "cell_type": "markdown",
      "source": [
        "**10.  Create a histogram using Seaborn to visualize a distribution?**"
      ],
      "metadata": {
        "id": "yLzqmMQ9IDwn"
      }
    },
    {
      "cell_type": "code",
      "source": [
        "import seaborn as sns\n",
        "import matplotlib.pyplot as plt\n",
        "\n",
        "# Sample data\n",
        "data = [5, 7, 8, 7, 6, 9, 5, 6, 7, 8, 6, 7, 8, 9, 10, 7, 8, 6, 5, 9]\n",
        "\n",
        "# Create histogram\n",
        "sns.histplot(data, bins=6, kde=True, color=\"skyblue\")\n",
        "\n",
        "# Add labels and title\n",
        "plt.xlabel(\"Value\")\n",
        "plt.ylabel(\"Frequency\")\n",
        "plt.title(\"Histogram of Data Distribution\")\n",
        "\n",
        "# Show plot\n",
        "plt.show()"
      ],
      "metadata": {
        "colab": {
          "base_uri": "https://localhost:8080/",
          "height": 472
        },
        "id": "5POt7mGZIJRQ",
        "outputId": "aa85fd52-adce-470f-f6d5-c596f3ebfbfe"
      },
      "execution_count": 10,
      "outputs": [
        {
          "output_type": "display_data",
          "data": {
            "text/plain": [
              "<Figure size 640x480 with 1 Axes>"
            ],
            "image/png": "[encoded data removed]"
          },
          "metadata": {}
        }
      ]
    },
    {
      "cell_type": "markdown",
      "source": [],
      "metadata": {
        "id": "vNyZyTbmHTmP"
      }
    },
    {
      "cell_type": "markdown",
      "source": [
        "**11.  Perform matrix multiplication using NumPy?**"
      ],
      "metadata": {
        "id": "6PnrPyhmIRuH"
      }
    },
    {
      "cell_type": "code",
      "source": [
        "import numpy as np\n",
        "\n",
        "# Create two matrices (2x2)\n",
        "A = np.array([[1, 2],\n",
        "              [3, 4]])\n",
        "\n",
        "B = np.array([[5, 6],\n",
        "              [7, 8]])\n",
        "\n",
        "# Matrix multiplication\n",
        "result = np.dot(A, B)   # or use A @ B\n",
        "\n",
        "print(\"Matrix A:\\n\", A)\n",
        "print(\"Matrix B:\\n\", B)\n",
        "print(\"Result of Matrix Multiplication:\\n\", result)"
      ],
      "metadata": {
        "colab": {
          "base_uri": "https://localhost:8080/"
        },
        "id": "1hh9CM-wIYLH",
        "outputId": "d32616b8-5166-46bc-ad07-6268da2a3b20"
      },
      "execution_count": 11,
      "outputs": [
        {
          "output_type": "stream",
          "name": "stdout",
          "text": [
            "Matrix A:\n",
            " [[1 2]\n",
            " [3 4]]\n",
            "Matrix B:\n",
            " [[5 6]\n",
            " [7 8]]\n",
            "Result of Matrix Multiplication:\n",
            " [[19 22]\n",
            " [43 50]]\n"
          ]
        }
      ]
    },
    {
      "cell_type": "markdown",
      "source": [
        "1**2.  Use Pandas to load a CSV file and display its first 5 rows?**"
      ],
      "metadata": {
        "id": "CVvEeyuXIdk3"
      }
    },
    {
      "cell_type": "code",
      "source": [
        "import pandas as pd\n",
        "\n",
        "# Load CSV file (replace 'data.csv' with your file name)\n",
        "df = pd.read_csv(\"data.csv\")\n",
        "\n",
        "# Display first 5 rows\n",
        "print(df.head())"
      ],
      "metadata": {
        "colab": {
          "base_uri": "https://localhost:8080/",
          "height": 373
        },
        "id": "4_FGASijImZp",
        "outputId": "629e08a1-b328-4b60-f04e-af0448a37a7f"
      },
      "execution_count": 15,
      "outputs": [
        {
          "output_type": "error",
          "ename": "FileNotFoundError",
          "evalue": "[Errno 2] No such file or directory: 'data.csv'",
          "traceback": [
            "\u001b[0;31m---------------------------------------------------------------------------\u001b[0m",
            "\u001b[0;31mFileNotFoundError\u001b[0m                         Traceback (most recent call last)",
            "\u001b[0;32m/tmp/ipython-input-2278932938.py\u001b[0m in \u001b[0;36m<cell line: 0>\u001b[0;34m()\u001b[0m\n\u001b[1;32m      2\u001b[0m \u001b[0;34m\u001b[0m\u001b[0m\n\u001b[1;32m      3\u001b[0m \u001b[0;31m# Load CSV file (replace 'data.csv' with your file name)\u001b[0m\u001b[0;34m\u001b[0m\u001b[0;34m\u001b[0m\u001b[0m\n\u001b[0;32m----> 4\u001b[0;31m \u001b[0mdf\u001b[0m \u001b[0;34m=\u001b[0m \u001b[0mpd\u001b[0m\u001b[0;34m.\u001b[0m\u001b[0mread_csv\u001b[0m\u001b[0;34m(\u001b[0m\u001b[0;34m\"data.csv\"\u001b[0m\u001b[0;34m)\u001b[0m\u001b[0;34m\u001b[0m\u001b[0;34m\u001b[0m\u001b[0m\n\u001b[0m\u001b[1;32m      5\u001b[0m \u001b[0;34m\u001b[0m\u001b[0m\n\u001b[1;32m      6\u001b[0m \u001b[0;31m# Display first 5 rows\u001b[0m\u001b[0;34m\u001b[0m\u001b[0;34m\u001b[0m\u001b[0m\n",
            "\u001b[0;32m/usr/local/lib/python3.12/dist-packages/pandas/io/parsers/readers.py\u001b[0m in \u001b[0;36mread_csv\u001b[0;34m(filepath_or_buffer, sep, delimiter, header, names, index_col, usecols, dtype, engine, converters, true_values, false_values, skipinitialspace, skiprows, skipfooter, nrows, na_values, keep_default_na, na_filter, verbose, skip_blank_lines, parse_dates, infer_datetime_format, keep_date_col, date_parser, date_format, dayfirst, cache_dates, iterator, chunksize, compression, thousands, decimal, lineterminator, quotechar, quoting, doublequote, escapechar, comment, encoding, encoding_errors, dialect, on_bad_lines, delim_whitespace, low_memory, memory_map, float_precision, storage_options, dtype_backend)\u001b[0m\n\u001b[1;32m   1024\u001b[0m     \u001b[0mkwds\u001b[0m\u001b[0;34m.\u001b[0m\u001b[0mupdate\u001b[0m\u001b[0;34m(\u001b[0m\u001b[0mkwds_defaults\u001b[0m\u001b[0;34m)\u001b[0m\u001b[0;34m\u001b[0m\u001b[0;34m\u001b[0m\u001b[0m\n\u001b[1;32m   1025\u001b[0m \u001b[0;34m\u001b[0m\u001b[0m\n\u001b[0;32m-> 1026\u001b[0;31m     \u001b[0;32mreturn\u001b[0m \u001b[0m_read\u001b[0m\u001b[0;34m(\u001b[0m\u001b[0mfilepath_or_buffer\u001b[0m\u001b[0;34m,\u001b[0m \u001b[0mkwds\u001b[0m\u001b[0;34m)\u001b[0m\u001b[0;34m\u001b[0m\u001b[0;34m\u001b[0m\u001b[0m\n\u001b[0m\u001b[1;32m   1027\u001b[0m \u001b[0;34m\u001b[0m\u001b[0m\n\u001b[1;32m   1028\u001b[0m \u001b[0;34m\u001b[0m\u001b[0m\n",
            "\u001b[0;32m/usr/local/lib/python3.12/dist-packages/pandas/io/parsers/readers.py\u001b[0m in \u001b[0;36m_read\u001b[0;34m(filepath_or_buffer, kwds)\u001b[0m\n\u001b[1;32m    618\u001b[0m \u001b[0;34m\u001b[0m\u001b[0m\n\u001b[1;32m    619\u001b[0m     \u001b[0;31m# Create the parser.\u001b[0m\u001b[0;34m\u001b[0m\u001b[0;34m\u001b[0m\u001b[0m\n\u001b[0;32m--> 620\u001b[0;31m     \u001b[0mparser\u001b[0m \u001b[0;34m=\u001b[0m \u001b[0mTextFileReader\u001b[0m\u001b[0;34m(\u001b[0m\u001b[0mfilepath_or_buffer\u001b[0m\u001b[0;34m,\u001b[0m \u001b[0;34m**\u001b[0m\u001b[0mkwds\u001b[0m\u001b[0;34m)\u001b[0m\u001b[0;34m\u001b[0m\u001b[0;34m\u001b[0m\u001b[0m\n\u001b[0m\u001b[1;32m    621\u001b[0m \u001b[0;34m\u001b[0m\u001b[0m\n\u001b[1;32m    622\u001b[0m     \u001b[0;32mif\u001b[0m \u001b[0mchunksize\u001b[0m \u001b[0;32mor\u001b[0m \u001b[0miterator\u001b[0m\u001b[0;34m:\u001b[0m\u001b[0;34m\u001b[0m\u001b[0;34m\u001b[0m\u001b[0m\n",
            "\u001b[0;32m/usr/local/lib/python3.12/dist-packages/pandas/io/parsers/readers.py\u001b[0m in \u001b[0;36m__init__\u001b[0;34m(self, f, engine, **kwds)\u001b[0m\n\u001b[1;32m   1618\u001b[0m \u001b[0;34m\u001b[0m\u001b[0m\n\u001b[1;32m   1619\u001b[0m         \u001b[0mself\u001b[0m\u001b[0;34m.\u001b[0m\u001b[0mhandles\u001b[0m\u001b[0;34m:\u001b[0m \u001b[0mIOHandles\u001b[0m \u001b[0;34m|\u001b[0m \u001b[0;32mNone\u001b[0m \u001b[0;34m=\u001b[0m \u001b[0;32mNone\u001b[0m\u001b[0;34m\u001b[0m\u001b[0;34m\u001b[0m\u001b[0m\n\u001b[0;32m-> 1620\u001b[0;31m         \u001b[0mself\u001b[0m\u001b[0;34m.\u001b[0m\u001b[0m_engine\u001b[0m \u001b[0;34m=\u001b[0m \u001b[0mself\u001b[0m\u001b[0;34m.\u001b[0m\u001b[0m_make_engine\u001b[0m\u001b[0;34m(\u001b[0m\u001b[0mf\u001b[0m\u001b[0;34m,\u001b[0m \u001b[0mself\u001b[0m\u001b[0;34m.\u001b[0m\u001b[0mengine\u001b[0m\u001b[0;34m)\u001b[0m\u001b[0;34m\u001b[0m\u001b[0;34m\u001b[0m\u001b[0m\n\u001b[0m\u001b[1;32m   1621\u001b[0m \u001b[0;34m\u001b[0m\u001b[0m\n\u001b[1;32m   1622\u001b[0m     \u001b[0;32mdef\u001b[0m \u001b[0mclose\u001b[0m\u001b[0;34m(\u001b[0m\u001b[0mself\u001b[0m\u001b[0;34m)\u001b[0m \u001b[0;34m->\u001b[0m \u001b[0;32mNone\u001b[0m\u001b[0;34m:\u001b[0m\u001b[0;34m\u001b[0m\u001b[0;34m\u001b[0m\u001b[0m\n",
            "\u001b[0;32m/usr/local/lib/python3.12/dist-packages/pandas/io/parsers/readers.py\u001b[0m in \u001b[0;36m_make_engine\u001b[0;34m(self, f, engine)\u001b[0m\n\u001b[1;32m   1878\u001b[0m                 \u001b[0;32mif\u001b[0m \u001b[0;34m\"b\"\u001b[0m \u001b[0;32mnot\u001b[0m \u001b[0;32min\u001b[0m \u001b[0mmode\u001b[0m\u001b[0;34m:\u001b[0m\u001b[0;34m\u001b[0m\u001b[0;34m\u001b[0m\u001b[0m\n\u001b[1;32m   1879\u001b[0m                     \u001b[0mmode\u001b[0m \u001b[0;34m+=\u001b[0m \u001b[0;34m\"b\"\u001b[0m\u001b[0;34m\u001b[0m\u001b[0;34m\u001b[0m\u001b[0m\n\u001b[0;32m-> 1880\u001b[0;31m             self.handles = get_handle(\n\u001b[0m\u001b[1;32m   1881\u001b[0m                 \u001b[0mf\u001b[0m\u001b[0;34m,\u001b[0m\u001b[0;34m\u001b[0m\u001b[0;34m\u001b[0m\u001b[0m\n\u001b[1;32m   1882\u001b[0m                 \u001b[0mmode\u001b[0m\u001b[0;34m,\u001b[0m\u001b[0;34m\u001b[0m\u001b[0;34m\u001b[0m\u001b[0m\n",
            "\u001b[0;32m/usr/local/lib/python3.12/dist-packages/pandas/io/common.py\u001b[0m in \u001b[0;36mget_handle\u001b[0;34m(path_or_buf, mode, encoding, compression, memory_map, is_text, errors, storage_options)\u001b[0m\n\u001b[1;32m    871\u001b[0m         \u001b[0;32mif\u001b[0m \u001b[0mioargs\u001b[0m\u001b[0;34m.\u001b[0m\u001b[0mencoding\u001b[0m \u001b[0;32mand\u001b[0m \u001b[0;34m\"b\"\u001b[0m \u001b[0;32mnot\u001b[0m \u001b[0;32min\u001b[0m \u001b[0mioargs\u001b[0m\u001b[0;34m.\u001b[0m\u001b[0mmode\u001b[0m\u001b[0;34m:\u001b[0m\u001b[0;34m\u001b[0m\u001b[0;34m\u001b[0m\u001b[0m\n\u001b[1;32m    872\u001b[0m             \u001b[0;31m# Encoding\u001b[0m\u001b[0;34m\u001b[0m\u001b[0;34m\u001b[0m\u001b[0m\n\u001b[0;32m--> 873\u001b[0;31m             handle = open(\n\u001b[0m\u001b[1;32m    874\u001b[0m                 \u001b[0mhandle\u001b[0m\u001b[0;34m,\u001b[0m\u001b[0;34m\u001b[0m\u001b[0;34m\u001b[0m\u001b[0m\n\u001b[1;32m    875\u001b[0m                 \u001b[0mioargs\u001b[0m\u001b[0;34m.\u001b[0m\u001b[0mmode\u001b[0m\u001b[0;34m,\u001b[0m\u001b[0;34m\u001b[0m\u001b[0;34m\u001b[0m\u001b[0m\n",
            "\u001b[0;31mFileNotFoundError\u001b[0m: [Errno 2] No such file or directory: 'data.csv'"
          ]
        }
      ]
    },
    {
      "cell_type": "markdown",
      "source": [
        "**13.  Create a 3D scatter plot using Plotly?**"
      ],
      "metadata": {
        "id": "Kn1HWQ5IIo8p"
      }
    },
    {
      "cell_type": "code",
      "source": [
        "import plotly.express as px\n",
        "import pandas as pd\n",
        "\n",
        "# Sample data\n",
        "data = {\n",
        "    'X': [5, 7, 8, 7, 6, 9, 5, 6, 7, 8],\n",
        "    'Y': [99, 86, 87, 88, 100, 86, 103, 87, 94, 78],\n",
        "    'Z': [10, 15, 13, 17, 14, 18, 12, 16, 19, 11],\n",
        "    'Category': ['A','A','B','B','C','C','A','B','C','A']\n",
        "}\n",
        "\n",
        "df = pd.DataFrame(data)\n",
        "\n",
        "# Create 3D scatter plot\n",
        "fig = px.scatter_3d(df,\n",
        "                    x='X',\n",
        "                    y='Y',\n",
        "                    z='Z',\n",
        "                    color='Category',  # Different colors for categories\n",
        "                    size='Z',          # Bubble size based on Z\n",
        "                    symbol='Category', # Different symbols\n",
        "                    title=\"3D Scatter Plot Example\")\n",
        "\n",
        "fig.show()"
      ],
      "metadata": {
        "colab": {
          "base_uri": "https://localhost:8080/",
          "height": 542
        },
        "id": "5PdXlBSmI0Go",
        "outputId": "8fe8a3e9-04ec-415e-ef2a-3fad48c1e0be"
      },
      "execution_count": 13,
      "outputs": [
        {
          "output_type": "display_data",
          "data": {
            "text/html": [
              "<html>\n",
              "<head><meta charset=\"utf-8\" /></head>\n",
              "<body>\n",
              "    <div>            <script src=\"https://cdnjs.cloudflare.com/ajax/libs/mathjax/2.7.5/MathJax.js?config=TeX-AMS-MML_SVG\"></script><script type=\"text/javascript\">if (window.MathJax && window.MathJax.Hub && window.MathJax.Hub.Config) {window.MathJax.Hub.Config({SVG: {font: \"STIX-Web\"}});}</script>                <script type=\"text/javascript\">window.PlotlyConfig = {MathJaxConfig: 'local'};</script>\n",
              "        <script charset=\"utf-8\" src=\"https://cdn.plot.ly/plotly-2.35.2.min.js\"></script>                <div id=\"73422731-4e89-449a-ab3d-2c6421a52aff\" class=\"plotly-graph-div\" style=\"height:525px; width:100%;\"></div>            <script type=\"text/javascript\">                                    window.PLOTLYENV=window.PLOTLYENV || {};                                    if (document.getElementById(\"73422731-4e89-449a-ab3d-2c6421a52aff\")) {                    Plotly.newPlot(                        \"73422731-4e89-449a-ab3d-2c6421a52aff\",                        [{\"hovertemplate\":\"Category=A\\u003cbr\\u003eX=%{x}\\u003cbr\\u003eY=%{y}\\u003cbr\\u003eZ=%{marker.size}\\u003cextra\\u003e\\u003c\\u002fextra\\u003e\",\"legendgroup\":\"A\",\"marker\":{\"color\":\"#636efa\",\"size\":[10,15,12,11],\"sizemode\":\"area\",\"sizeref\":0.0475,\"symbol\":\"circle\"},\"mode\":\"markers\",\"name\":\"A\",\"scene\":\"scene\",\"showlegend\":true,\"x\":[5,7,5,8],\"y\":[99,86,103,78],\"z\":[10,15,12,11],\"type\":\"scatter3d\"},{\"hovertemplate\":\"Category=B\\u003cbr\\u003eX=%{x}\\u003cbr\\u003eY=%{y}\\u003cbr\\u003eZ=%{marker.size}\\u003cextra\\u003e\\u003c\\u002fextra\\u003e\",\"legendgroup\":\"B\",\"marker\":{\"color\":\"#EF553B\",\"size\":[13,17,16],\"sizemode\":\"area\",\"sizeref\":0.0475,\"symbol\":\"diamond\"},\"mode\":\"markers\",\"name\":\"B\",\"scene\":\"scene\",\"showlegend\":true,\"x\":[8,7,6],\"y\":[87,88,87],\"z\":[13,17,16],\"type\":\"scatter3d\"},{\"hovertemplate\":\"Category=C\\u003cbr\\u003eX=%{x}\\u003cbr\\u003eY=%{y}\\u003cbr\\u003eZ=%{marker.size}\\u003cextra\\u003e\\u003c\\u002fextra\\u003e\",\"legendgroup\":\"C\",\"marker\":{\"color\":\"#00cc96\",\"size\":[14,18,19],\"sizemode\":\"area\",\"sizeref\":0.0475,\"symbol\":\"square\"},\"mode\":\"markers\",\"name\":\"C\",\"scene\":\"scene\",\"showlegend\":true,\"x\":[6,9,7],\"y\":[100,86,94],\"z\":[14,18,19],\"type\":\"scatter3d\"}],                        {\"template\":{\"data\":{\"histogram2dcontour\":[{\"type\":\"histogram2dcontour\",\"colorbar\":{\"outlinewidth\":0,\"ticks\":\"\"},\"colorscale\":[[0.0,\"#0d0887\"],[0.1111111111111111,\"#46039f\"],[0.2222222222222222,\"#7201a8\"],[0.3333333333333333,\"#9c179e\"],[0.4444444444444444,\"#bd3786\"],[0.5555555555555556,\"#d8576b\"],[0.6666666666666666,\"#ed7953\"],[0.7777777777777778,\"#fb9f3a\"],[0.8888888888888888,\"#fdca26\"],[1.0,\"#f0f921\"]]}],\"choropleth\":[{\"type\":\"choropleth\",\"colorbar\":{\"outlinewidth\":0,\"ticks\":\"\"}}],\"histogram2d\":[{\"type\":\"histogram2d\",\"colorbar\":{\"outlinewidth\":0,\"ticks\":\"\"},\"colorscale\":[[0.0,\"#0d0887\"],[0.1111111111111111,\"#46039f\"],[0.2222222222222222,\"#7201a8\"],[0.3333333333333333,\"#9c179e\"],[0.4444444444444444,\"#bd3786\"],[0.5555555555555556,\"#d8576b\"],[0.6666666666666666,\"#ed7953\"],[0.7777777777777778,\"#fb9f3a\"],[0.8888888888888888,\"#fdca26\"],[1.0,\"#f0f921\"]]}],\"heatmap\":[{\"type\":\"heatmap\",\"colorbar\":{\"outlinewidth\":0,\"ticks\":\"\"},\"colorscale\":[[0.0,\"#0d0887\"],[0.1111111111111111,\"#46039f\"],[0.2222222222222222,\"#7201a8\"],[0.3333333333333333,\"#9c179e\"],[0.4444444444444444,\"#bd3786\"],[0.5555555555555556,\"#d8576b\"],[0.6666666666666666,\"#ed7953\"],[0.7777777777777778,\"#fb9f3a\"],[0.8888888888888888,\"#fdca26\"],[1.0,\"#f0f921\"]]}],\"heatmapgl\":[{\"type\":\"heatmapgl\",\"colorbar\":{\"outlinewidth\":0,\"ticks\":\"\"},\"colorscale\":[[0.0,\"#0d0887\"],[0.1111111111111111,\"#46039f\"],[0.2222222222222222,\"#7201a8\"],[0.3333333333333333,\"#9c179e\"],[0.4444444444444444,\"#bd3786\"],[0.5555555555555556,\"#d8576b\"],[0.6666666666666666,\"#ed7953\"],[0.7777777777777778,\"#fb9f3a\"],[0.8888888888888888,\"#fdca26\"],[1.0,\"#f0f921\"]]}],\"contourcarpet\":[{\"type\":\"contourcarpet\",\"colorbar\":{\"outlinewidth\":0,\"ticks\":\"\"}}],\"contour\":[{\"type\":\"contour\",\"colorbar\":{\"outlinewidth\":0,\"ticks\":\"\"},\"colorscale\":[[0.0,\"#0d0887\"],[0.1111111111111111,\"#46039f\"],[0.2222222222222222,\"#7201a8\"],[0.3333333333333333,\"#9c179e\"],[0.4444444444444444,\"#bd3786\"],[0.5555555555555556,\"#d8576b\"],[0.6666666666666666,\"#ed7953\"],[0.7777777777777778,\"#fb9f3a\"],[0.8888888888888888,\"#fdca26\"],[1.0,\"#f0f921\"]]}],\"surface\":[{\"type\":\"surface\",\"colorbar\":{\"outlinewidth\":0,\"ticks\":\"\"},\"colorscale\":[[0.0,\"#0d0887\"],[0.1111111111111111,\"#46039f\"],[0.2222222222222222,\"#7201a8\"],[0.3333333333333333,\"#9c179e\"],[0.4444444444444444,\"#bd3786\"],[0.5555555555555556,\"#d8576b\"],[0.6666666666666666,\"#ed7953\"],[0.7777777777777778,\"#fb9f3a\"],[0.8888888888888888,\"#fdca26\"],[1.0,\"#f0f921\"]]}],\"mesh3d\":[{\"type\":\"mesh3d\",\"colorbar\":{\"outlinewidth\":0,\"ticks\":\"\"}}],\"scatter\":[{\"fillpattern\":{\"fillmode\":\"overlay\",\"size\":10,\"solidity\":0.2},\"type\":\"scatter\"}],\"parcoords\":[{\"type\":\"parcoords\",\"line\":{\"colorbar\":{\"outlinewidth\":0,\"ticks\":\"\"}}}],\"scatterpolargl\":[{\"type\":\"scatterpolargl\",\"marker\":{\"colorbar\":{\"outlinewidth\":0,\"ticks\":\"\"}}}],\"bar\":[{\"error_x\":{\"color\":\"#2a3f5f\"},\"error_y\":{\"color\":\"#2a3f5f\"},\"marker\":{\"line\":{\"color\":\"#E5ECF6\",\"width\":0.5},\"pattern\":{\"fillmode\":\"overlay\",\"size\":10,\"solidity\":0.2}},\"type\":\"bar\"}],\"scattergeo\":[{\"type\":\"scattergeo\",\"marker\":{\"colorbar\":{\"outlinewidth\":0,\"ticks\":\"\"}}}],\"scatterpolar\":[{\"type\":\"scatterpolar\",\"marker\":{\"colorbar\":{\"outlinewidth\":0,\"ticks\":\"\"}}}],\"histogram\":[{\"marker\":{\"pattern\":{\"fillmode\":\"overlay\",\"size\":10,\"solidity\":0.2}},\"type\":\"histogram\"}],\"scattergl\":[{\"type\":\"scattergl\",\"marker\":{\"colorbar\":{\"outlinewidth\":0,\"ticks\":\"\"}}}],\"scatter3d\":[{\"type\":\"scatter3d\",\"line\":{\"colorbar\":{\"outlinewidth\":0,\"ticks\":\"\"}},\"marker\":{\"colorbar\":{\"outlinewidth\":0,\"ticks\":\"\"}}}],\"scattermapbox\":[{\"type\":\"scattermapbox\",\"marker\":{\"colorbar\":{\"outlinewidth\":0,\"ticks\":\"\"}}}],\"scatterternary\":[{\"type\":\"scatterternary\",\"marker\":{\"colorbar\":{\"outlinewidth\":0,\"ticks\":\"\"}}}],\"scattercarpet\":[{\"type\":\"scattercarpet\",\"marker\":{\"colorbar\":{\"outlinewidth\":0,\"ticks\":\"\"}}}],\"carpet\":[{\"aaxis\":{\"endlinecolor\":\"#2a3f5f\",\"gridcolor\":\"white\",\"linecolor\":\"white\",\"minorgridcolor\":\"white\",\"startlinecolor\":\"#2a3f5f\"},\"baxis\":{\"endlinecolor\":\"#2a3f5f\",\"gridcolor\":\"white\",\"linecolor\":\"white\",\"minorgridcolor\":\"white\",\"startlinecolor\":\"#2a3f5f\"},\"type\":\"carpet\"}],\"table\":[{\"cells\":{\"fill\":{\"color\":\"#EBF0F8\"},\"line\":{\"color\":\"white\"}},\"header\":{\"fill\":{\"color\":\"#C8D4E3\"},\"line\":{\"color\":\"white\"}},\"type\":\"table\"}],\"barpolar\":[{\"marker\":{\"line\":{\"color\":\"#E5ECF6\",\"width\":0.5},\"pattern\":{\"fillmode\":\"overlay\",\"size\":10,\"solidity\":0.2}},\"type\":\"barpolar\"}],\"pie\":[{\"automargin\":true,\"type\":\"pie\"}]},\"layout\":{\"autotypenumbers\":\"strict\",\"colorway\":[\"#636efa\",\"#EF553B\",\"#00cc96\",\"#ab63fa\",\"#FFA15A\",\"#19d3f3\",\"#FF6692\",\"#B6E880\",\"#FF97FF\",\"#FECB52\"],\"font\":{\"color\":\"#2a3f5f\"},\"hovermode\":\"closest\",\"hoverlabel\":{\"align\":\"left\"},\"paper_bgcolor\":\"white\",\"plot_bgcolor\":\"#E5ECF6\",\"polar\":{\"bgcolor\":\"#E5ECF6\",\"angularaxis\":{\"gridcolor\":\"white\",\"linecolor\":\"white\",\"ticks\":\"\"},\"radialaxis\":{\"gridcolor\":\"white\",\"linecolor\":\"white\",\"ticks\":\"\"}},\"ternary\":{\"bgcolor\":\"#E5ECF6\",\"aaxis\":{\"gridcolor\":\"white\",\"linecolor\":\"white\",\"ticks\":\"\"},\"baxis\":{\"gridcolor\":\"white\",\"linecolor\":\"white\",\"ticks\":\"\"},\"caxis\":{\"gridcolor\":\"white\",\"linecolor\":\"white\",\"ticks\":\"\"}},\"coloraxis\":{\"colorbar\":{\"outlinewidth\":0,\"ticks\":\"\"}},\"colorscale\":{\"sequential\":[[0.0,\"#0d0887\"],[0.1111111111111111,\"#46039f\"],[0.2222222222222222,\"#7201a8\"],[0.3333333333333333,\"#9c179e\"],[0.4444444444444444,\"#bd3786\"],[0.5555555555555556,\"#d8576b\"],[0.6666666666666666,\"#ed7953\"],[0.7777777777777778,\"#fb9f3a\"],[0.8888888888888888,\"#fdca26\"],[1.0,\"#f0f921\"]],\"sequentialminus\":[[0.0,\"#0d0887\"],[0.1111111111111111,\"#46039f\"],[0.2222222222222222,\"#7201a8\"],[0.3333333333333333,\"#9c179e\"],[0.4444444444444444,\"#bd3786\"],[0.5555555555555556,\"#d8576b\"],[0.6666666666666666,\"#ed7953\"],[0.7777777777777778,\"#fb9f3a\"],[0.8888888888888888,\"#fdca26\"],[1.0,\"#f0f921\"]],\"diverging\":[[0,\"#8e0152\"],[0.1,\"#c51b7d\"],[0.2,\"#de77ae\"],[0.3,\"#f1b6da\"],[0.4,\"#fde0ef\"],[0.5,\"#f7f7f7\"],[0.6,\"#e6f5d0\"],[0.7,\"#b8e186\"],[0.8,\"#7fbc41\"],[0.9,\"#4d9221\"],[1,\"#276419\"]]},\"xaxis\":{\"gridcolor\":\"white\",\"linecolor\":\"white\",\"ticks\":\"\",\"title\":{\"standoff\":15},\"zerolinecolor\":\"white\",\"automargin\":true,\"zerolinewidth\":2},\"yaxis\":{\"gridcolor\":\"white\",\"linecolor\":\"white\",\"ticks\":\"\",\"title\":{\"standoff\":15},\"zerolinecolor\":\"white\",\"automargin\":true,\"zerolinewidth\":2},\"scene\":{\"xaxis\":{\"backgroundcolor\":\"#E5ECF6\",\"gridcolor\":\"white\",\"linecolor\":\"white\",\"showbackground\":true,\"ticks\":\"\",\"zerolinecolor\":\"white\",\"gridwidth\":2},\"yaxis\":{\"backgroundcolor\":\"#E5ECF6\",\"gridcolor\":\"white\",\"linecolor\":\"white\",\"showbackground\":true,\"ticks\":\"\",\"zerolinecolor\":\"white\",\"gridwidth\":2},\"zaxis\":{\"backgroundcolor\":\"#E5ECF6\",\"gridcolor\":\"white\",\"linecolor\":\"white\",\"showbackground\":true,\"ticks\":\"\",\"zerolinecolor\":\"white\",\"gridwidth\":2}},\"shapedefaults\":{\"line\":{\"color\":\"#2a3f5f\"}},\"annotationdefaults\":{\"arrowcolor\":\"#2a3f5f\",\"arrowhead\":0,\"arrowwidth\":1},\"geo\":{\"bgcolor\":\"white\",\"landcolor\":\"#E5ECF6\",\"subunitcolor\":\"white\",\"showland\":true,\"showlakes\":true,\"lakecolor\":\"white\"},\"title\":{\"x\":0.05},\"mapbox\":{\"style\":\"light\"}}},\"scene\":{\"domain\":{\"x\":[0.0,1.0],\"y\":[0.0,1.0]},\"xaxis\":{\"title\":{\"text\":\"X\"}},\"yaxis\":{\"title\":{\"text\":\"Y\"}},\"zaxis\":{\"title\":{\"text\":\"Z\"}}},\"legend\":{\"title\":{\"text\":\"Category\"},\"tracegroupgap\":0,\"itemsizing\":\"constant\"},\"title\":{\"text\":\"3D Scatter Plot Example\"}},                        {\"responsive\": true}                    ).then(function(){\n",
              "                            \n",
              "var gd = document.getElementById('73422731-4e89-449a-ab3d-2c6421a52aff');\n",
              "var x = new MutationObserver(function (mutations, observer) {{\n",
              "        var display = window.getComputedStyle(gd).display;\n",
              "        if (!display || display === 'none') {{\n",
              "            console.log([gd, 'removed!']);\n",
              "            Plotly.purge(gd);\n",
              "            observer.disconnect();\n",
              "        }}\n",
              "}});\n",
              "\n",
              "// Listen for the removal of the full notebook cells\n",
              "var notebookContainer = gd.closest('#notebook-container');\n",
              "if (notebookContainer) {{\n",
              "    x.observe(notebookContainer, {childList: true});\n",
              "}}\n",
              "\n",
              "// Listen for the clearing of the current output cell\n",
              "var outputEl = gd.closest('.output');\n",
              "if (outputEl) {{\n",
              "    x.observe(outputEl, {childList: true});\n",
              "}}\n",
              "\n",
              "                        })                };                            </script>        </div>\n",
              "</body>\n",
              "</html>"
            ]
          },
          "metadata": {}
        }
      ]
    }
  ]
}